{
 "cells": [
  {
   "cell_type": "markdown",
   "metadata": {},
   "source": [
    "review ingesting XML"
   ]
  },
  {
   "cell_type": "code",
   "execution_count": 5,
   "metadata": {},
   "outputs": [],
   "source": [
    "import xml.etree.ElementTree as ET"
   ]
  },
  {
   "cell_type": "code",
   "execution_count": 6,
   "metadata": {},
   "outputs": [],
   "source": [
    "from lxml import etree"
   ]
  },
  {
   "cell_type": "code",
   "execution_count": 7,
   "metadata": {},
   "outputs": [],
   "source": [
    "tree = ET.parse(r'C:\\Users\\madis\\Documents\\676nlam\\si676-2024-data\\data\\xml\\superior-papers-complete.xml')"
   ]
  },
  {
   "cell_type": "code",
   "execution_count": 8,
   "metadata": {},
   "outputs": [],
   "source": [
    "root = tree.getroot()"
   ]
  },
  {
   "cell_type": "code",
   "execution_count": 9,
   "metadata": {},
   "outputs": [],
   "source": [
    "ns = {\n",
    "    'ead' : 'http://ead3.archivists.org/schema/'\n",
    "}"
   ]
  },
  {
   "cell_type": "code",
   "execution_count": 10,
   "metadata": {},
   "outputs": [
    {
     "name": "stdout",
     "output_type": "stream",
     "text": [
      "{http://ead3.archivists.org/schema/}control\n",
      "{http://ead3.archivists.org/schema/}archdesc\n"
     ]
    }
   ],
   "source": [
    "for element in root:\n",
    "    print(element.tag)"
   ]
  },
  {
   "cell_type": "code",
   "execution_count": 11,
   "metadata": {},
   "outputs": [
    {
     "name": "stdout",
     "output_type": "stream",
     "text": [
      "{http://ead3.archivists.org/schema/}ead\n",
      "{http://ead3.archivists.org/schema/}control\n",
      "{http://ead3.archivists.org/schema/}recordid\n",
      "{http://ead3.archivists.org/schema/}filedesc\n",
      "{http://ead3.archivists.org/schema/}titlestmt\n",
      "{http://ead3.archivists.org/schema/}titleproper\n",
      "{http://ead3.archivists.org/schema/}titleproper\n",
      "{http://ead3.archivists.org/schema/}author\n",
      "{http://ead3.archivists.org/schema/}publicationstmt\n",
      "{http://ead3.archivists.org/schema/}publisher\n",
      "{http://ead3.archivists.org/schema/}address\n",
      "{http://ead3.archivists.org/schema/}addressline\n",
      "{http://ead3.archivists.org/schema/}addressline\n",
      "{http://ead3.archivists.org/schema/}addressline\n",
      "{http://ead3.archivists.org/schema/}date\n",
      "{http://ead3.archivists.org/schema/}num\n",
      "{http://ead3.archivists.org/schema/}p\n",
      "{http://ead3.archivists.org/schema/}maintenancestatus\n",
      "{http://ead3.archivists.org/schema/}maintenanceagency\n",
      "{http://ead3.archivists.org/schema/}agencycode\n",
      "{http://ead3.archivists.org/schema/}agencyname\n",
      "{http://ead3.archivists.org/schema/}languagedeclaration\n",
      "{http://ead3.archivists.org/schema/}language\n",
      "{http://ead3.archivists.org/schema/}script\n",
      "{http://ead3.archivists.org/schema/}descriptivenote\n",
      "{http://ead3.archivists.org/schema/}p\n",
      "{http://ead3.archivists.org/schema/}conventiondeclaration\n",
      "{http://ead3.archivists.org/schema/}abbr\n",
      "{http://ead3.archivists.org/schema/}citation\n",
      "{http://ead3.archivists.org/schema/}localcontrol\n",
      "{http://ead3.archivists.org/schema/}term\n",
      "{http://ead3.archivists.org/schema/}maintenancehistory\n",
      "{http://ead3.archivists.org/schema/}maintenanceevent\n",
      "{http://ead3.archivists.org/schema/}eventtype\n",
      "{http://ead3.archivists.org/schema/}eventdatetime\n",
      "{http://ead3.archivists.org/schema/}agenttype\n",
      "{http://ead3.archivists.org/schema/}agent\n",
      "{http://ead3.archivists.org/schema/}eventdescription\n",
      "{http://ead3.archivists.org/schema/}archdesc\n",
      "{http://ead3.archivists.org/schema/}did\n",
      "{http://ead3.archivists.org/schema/}unittitle\n",
      "{http://ead3.archivists.org/schema/}unitid\n",
      "{http://ead3.archivists.org/schema/}unitid\n",
      "{http://ead3.archivists.org/schema/}repository\n",
      "{http://ead3.archivists.org/schema/}corpname\n",
      "{http://ead3.archivists.org/schema/}part\n",
      "{http://ead3.archivists.org/schema/}langmaterial\n",
      "{http://ead3.archivists.org/schema/}language\n",
      "{http://ead3.archivists.org/schema/}physdescstructured\n",
      "{http://ead3.archivists.org/schema/}quantity\n",
      "{http://ead3.archivists.org/schema/}unittype\n",
      "{http://ead3.archivists.org/schema/}physfacet\n",
      "{http://ead3.archivists.org/schema/}dimensions\n",
      "{http://ead3.archivists.org/schema/}physdesc\n",
      "{http://ead3.archivists.org/schema/}unitdatestructured\n",
      "{http://ead3.archivists.org/schema/}daterange\n",
      "{http://ead3.archivists.org/schema/}fromdate\n",
      "{http://ead3.archivists.org/schema/}todate\n",
      "{http://ead3.archivists.org/schema/}unitdate\n",
      "{http://ead3.archivists.org/schema/}controlaccess\n",
      "{http://ead3.archivists.org/schema/}subject\n",
      "{http://ead3.archivists.org/schema/}part\n",
      "{http://ead3.archivists.org/schema/}geogname\n",
      "{http://ead3.archivists.org/schema/}part\n",
      "{http://ead3.archivists.org/schema/}dsc\n",
      "{http://ead3.archivists.org/schema/}c\n",
      "{http://ead3.archivists.org/schema/}did\n",
      "{http://ead3.archivists.org/schema/}unittitle\n",
      "{http://ead3.archivists.org/schema/}unitid\n",
      "{http://ead3.archivists.org/schema/}unitid\n",
      "{http://ead3.archivists.org/schema/}unitdatestructured\n",
      "{http://ead3.archivists.org/schema/}daterange\n",
      "{http://ead3.archivists.org/schema/}fromdate\n",
      "{http://ead3.archivists.org/schema/}todate\n",
      "{http://ead3.archivists.org/schema/}c\n",
      "{http://ead3.archivists.org/schema/}did\n",
      "{http://ead3.archivists.org/schema/}unittitle\n",
      "{http://ead3.archivists.org/schema/}unitid\n",
      "{http://ead3.archivists.org/schema/}unitid\n",
      "{http://ead3.archivists.org/schema/}unitdatestructured\n",
      "{http://ead3.archivists.org/schema/}daterange\n",
      "{http://ead3.archivists.org/schema/}fromdate\n",
      "{http://ead3.archivists.org/schema/}todate\n",
      "{http://ead3.archivists.org/schema/}c\n",
      "{http://ead3.archivists.org/schema/}did\n",
      "{http://ead3.archivists.org/schema/}unittitle\n",
      "{http://ead3.archivists.org/schema/}unitid\n",
      "{http://ead3.archivists.org/schema/}unitid\n",
      "{http://ead3.archivists.org/schema/}scopecontent\n",
      "{http://ead3.archivists.org/schema/}head\n",
      "{http://ead3.archivists.org/schema/}p\n",
      "{http://ead3.archivists.org/schema/}c\n",
      "{http://ead3.archivists.org/schema/}did\n",
      "{http://ead3.archivists.org/schema/}unittitle\n",
      "{http://ead3.archivists.org/schema/}unitid\n",
      "{http://ead3.archivists.org/schema/}unitid\n",
      "{http://ead3.archivists.org/schema/}unitdatestructured\n",
      "{http://ead3.archivists.org/schema/}datesingle\n"
     ]
    }
   ],
   "source": [
    "for element in root.iter():\n",
    "    print(element.tag)"
   ]
  },
  {
   "cell_type": "code",
   "execution_count": 12,
   "metadata": {},
   "outputs": [
    {
     "name": "stdout",
     "output_type": "stream",
     "text": [
      "{http://ead3.archivists.org/schema/}did\n",
      "{http://ead3.archivists.org/schema/}controlaccess\n",
      "{http://ead3.archivists.org/schema/}dsc\n"
     ]
    }
   ],
   "source": [
    "archdesc = root.find('ead:archdesc', ns)\n",
    "\n",
    "for element in archdesc:\n",
    "    print(element.tag)"
   ]
  },
  {
   "cell_type": "markdown",
   "metadata": {},
   "source": [
    "Start with * and . and \\\\"
   ]
  },
  {
   "cell_type": "code",
   "execution_count": 14,
   "metadata": {},
   "outputs": [
    {
     "name": "stdout",
     "output_type": "stream",
     "text": [
      "{http://ead3.archivists.org/schema/}control {'countryencoding': 'iso3166-1', 'dateencoding': 'iso8601', 'langencoding': 'iso639-2b', 'relatedencoding': 'marc', 'repositoryencoding': 'iso15511', 'scriptencoding': 'iso15924'}\n",
      "{http://ead3.archivists.org/schema/}recordid {'instanceurl': 'Reading Room & website'}\n",
      "{http://ead3.archivists.org/schema/}filedesc {}\n",
      "{http://ead3.archivists.org/schema/}titlestmt {}\n",
      "{http://ead3.archivists.org/schema/}titleproper {}\n",
      "{http://ead3.archivists.org/schema/}titleproper {'localtype': 'filing'}\n",
      "{http://ead3.archivists.org/schema/}author {}\n",
      "{http://ead3.archivists.org/schema/}publicationstmt {}\n",
      "{http://ead3.archivists.org/schema/}publisher {}\n",
      "{http://ead3.archivists.org/schema/}address {}\n",
      "{http://ead3.archivists.org/schema/}addressline {}\n",
      "{http://ead3.archivists.org/schema/}addressline {}\n",
      "{http://ead3.archivists.org/schema/}addressline {'localtype': 'email'}\n",
      "{http://ead3.archivists.org/schema/}date {}\n",
      "{http://ead3.archivists.org/schema/}num {}\n",
      "{http://ead3.archivists.org/schema/}p {}\n",
      "{http://ead3.archivists.org/schema/}maintenancestatus {'value': 'derived'}\n",
      "{http://ead3.archivists.org/schema/}maintenanceagency {'countrycode': 'US'}\n",
      "{http://ead3.archivists.org/schema/}agencycode {}\n",
      "{http://ead3.archivists.org/schema/}agencyname {}\n",
      "{http://ead3.archivists.org/schema/}languagedeclaration {}\n",
      "{http://ead3.archivists.org/schema/}language {'langcode': 'eng'}\n",
      "{http://ead3.archivists.org/schema/}script {'scriptcode': 'Zyyy'}\n",
      "{http://ead3.archivists.org/schema/}descriptivenote {}\n",
      "{http://ead3.archivists.org/schema/}p {}\n",
      "{http://ead3.archivists.org/schema/}conventiondeclaration {}\n",
      "{http://ead3.archivists.org/schema/}abbr {}\n",
      "{http://ead3.archivists.org/schema/}citation {}\n",
      "{http://ead3.archivists.org/schema/}localcontrol {'localtype': 'findaidstatus'}\n",
      "{http://ead3.archivists.org/schema/}term {}\n",
      "{http://ead3.archivists.org/schema/}maintenancehistory {}\n",
      "{http://ead3.archivists.org/schema/}maintenanceevent {}\n",
      "{http://ead3.archivists.org/schema/}eventtype {'value': 'derived'}\n",
      "{http://ead3.archivists.org/schema/}eventdatetime {}\n",
      "{http://ead3.archivists.org/schema/}agenttype {'value': 'machine'}\n",
      "{http://ead3.archivists.org/schema/}agent {}\n",
      "{http://ead3.archivists.org/schema/}eventdescription {}\n",
      "{http://ead3.archivists.org/schema/}archdesc {'level': 'collection'}\n",
      "{http://ead3.archivists.org/schema/}did {}\n",
      "{http://ead3.archivists.org/schema/}unittitle {}\n",
      "{http://ead3.archivists.org/schema/}unitid {}\n",
      "{http://ead3.archivists.org/schema/}unitid {'localtype': 'aspace_uri'}\n",
      "{http://ead3.archivists.org/schema/}repository {}\n",
      "{http://ead3.archivists.org/schema/}corpname {}\n",
      "{http://ead3.archivists.org/schema/}part {}\n",
      "{http://ead3.archivists.org/schema/}langmaterial {}\n",
      "{http://ead3.archivists.org/schema/}language {'langcode': 'eng'}\n",
      "{http://ead3.archivists.org/schema/}physdescstructured {'coverage': 'whole', 'physdescstructuredtype': 'spaceoccupied'}\n",
      "{http://ead3.archivists.org/schema/}quantity {}\n",
      "{http://ead3.archivists.org/schema/}unittype {}\n",
      "{http://ead3.archivists.org/schema/}physfacet {}\n",
      "{http://ead3.archivists.org/schema/}dimensions {}\n",
      "{http://ead3.archivists.org/schema/}physdesc {'localtype': 'container_summary'}\n",
      "{http://ead3.archivists.org/schema/}unitdatestructured {'certainty': 'approximate', 'datechar': 'creation', 'era': 'ce', 'unitdatetype': 'bulk'}\n",
      "{http://ead3.archivists.org/schema/}daterange {}\n",
      "{http://ead3.archivists.org/schema/}fromdate {'standarddate': '1850'}\n",
      "{http://ead3.archivists.org/schema/}todate {'standarddate': '1975'}\n",
      "{http://ead3.archivists.org/schema/}unitdate {'certainty': 'approximate', 'datechar': 'creation', 'era': 'ce', 'unitdatetype': 'bulk'}\n",
      "{http://ead3.archivists.org/schema/}controlaccess {}\n",
      "{http://ead3.archivists.org/schema/}subject {'identifier': 'https://id.loc.gov/authorities/subjects/sh85130609.html', 'source': 'lcsh'}\n",
      "{http://ead3.archivists.org/schema/}part {}\n",
      "{http://ead3.archivists.org/schema/}geogname {'identifier': 'https://id.loc.gov/authorities/subjects/sh93001909.html', 'source': 'lcsh'}\n",
      "{http://ead3.archivists.org/schema/}part {}\n",
      "{http://ead3.archivists.org/schema/}dsc {}\n",
      "{http://ead3.archivists.org/schema/}c {'id': 'aspace_edab5fb678b5e37fcf34130da5836686', 'level': 'series'}\n",
      "{http://ead3.archivists.org/schema/}did {}\n",
      "{http://ead3.archivists.org/schema/}unittitle {}\n",
      "{http://ead3.archivists.org/schema/}unitid {'localtype': 'aspace_uri'}\n",
      "{http://ead3.archivists.org/schema/}unitid {}\n",
      "{http://ead3.archivists.org/schema/}unitdatestructured {'datechar': 'creation', 'unitdatetype': 'bulk'}\n",
      "{http://ead3.archivists.org/schema/}daterange {}\n",
      "{http://ead3.archivists.org/schema/}fromdate {'standarddate': '1850'}\n",
      "{http://ead3.archivists.org/schema/}todate {'standarddate': '1975'}\n",
      "{http://ead3.archivists.org/schema/}c {'id': 'aspace_cf40ab6e8beda6e2fdb51e0a08d30e06', 'level': 'series'}\n",
      "{http://ead3.archivists.org/schema/}did {}\n",
      "{http://ead3.archivists.org/schema/}unittitle {}\n",
      "{http://ead3.archivists.org/schema/}unitid {'localtype': 'aspace_uri'}\n",
      "{http://ead3.archivists.org/schema/}unitid {}\n",
      "{http://ead3.archivists.org/schema/}unitdatestructured {'certainty': 'questionable', 'datechar': 'creation', 'era': 'ce', 'unitdatetype': 'bulk'}\n",
      "{http://ead3.archivists.org/schema/}daterange {}\n",
      "{http://ead3.archivists.org/schema/}fromdate {'standarddate': '1850'}\n",
      "{http://ead3.archivists.org/schema/}todate {'standarddate': '1975'}\n",
      "{http://ead3.archivists.org/schema/}c {'id': 'aspace_5f14153a5cfd7f41c0b74cb59f429490', 'level': 'series'}\n",
      "{http://ead3.archivists.org/schema/}did {}\n",
      "{http://ead3.archivists.org/schema/}unittitle {}\n",
      "{http://ead3.archivists.org/schema/}unitid {'localtype': 'aspace_uri'}\n",
      "{http://ead3.archivists.org/schema/}unitid {}\n",
      "{http://ead3.archivists.org/schema/}scopecontent {'id': 'aspace_7e625d5bbdb28c2317a6a28677ebbd83'}\n",
      "{http://ead3.archivists.org/schema/}head {}\n",
      "{http://ead3.archivists.org/schema/}p {}\n",
      "{http://ead3.archivists.org/schema/}c {'id': 'aspace_0d77dcd4a4330f180ac372a192c51427', 'level': 'file'}\n",
      "{http://ead3.archivists.org/schema/}did {}\n",
      "{http://ead3.archivists.org/schema/}unittitle {}\n",
      "{http://ead3.archivists.org/schema/}unitid {'localtype': 'aspace_uri'}\n",
      "{http://ead3.archivists.org/schema/}unitid {}\n",
      "{http://ead3.archivists.org/schema/}unitdatestructured {'datechar': 'creation', 'unitdatetype': 'inclusive'}\n",
      "{http://ead3.archivists.org/schema/}datesingle {'standarddate': '1975-11-10'}\n"
     ]
    }
   ],
   "source": [
    "allEadTags = root.findall('.//*')\n",
    "\n",
    "for element in allEadTags:\n",
    "    print(element.tag, element.attrib)"
   ]
  },
  {
   "cell_type": "code",
   "execution_count": 15,
   "metadata": {},
   "outputs": [
    {
     "name": "stdout",
     "output_type": "stream",
     "text": [
      "{http://ead3.archivists.org/schema/}control {'countryencoding': 'iso3166-1', 'dateencoding': 'iso8601', 'langencoding': 'iso639-2b', 'relatedencoding': 'marc', 'repositoryencoding': 'iso15511', 'scriptencoding': 'iso15924'}\n",
      "{http://ead3.archivists.org/schema/}recordid {'instanceurl': 'Reading Room & website'}\n",
      "{http://ead3.archivists.org/schema/}filedesc {}\n",
      "{http://ead3.archivists.org/schema/}titlestmt {}\n",
      "{http://ead3.archivists.org/schema/}titleproper {}\n",
      "{http://ead3.archivists.org/schema/}titleproper {'localtype': 'filing'}\n",
      "{http://ead3.archivists.org/schema/}author {}\n",
      "{http://ead3.archivists.org/schema/}publicationstmt {}\n",
      "{http://ead3.archivists.org/schema/}publisher {}\n",
      "{http://ead3.archivists.org/schema/}address {}\n",
      "{http://ead3.archivists.org/schema/}addressline {}\n",
      "{http://ead3.archivists.org/schema/}addressline {}\n",
      "{http://ead3.archivists.org/schema/}addressline {'localtype': 'email'}\n",
      "{http://ead3.archivists.org/schema/}date {}\n",
      "{http://ead3.archivists.org/schema/}num {}\n",
      "{http://ead3.archivists.org/schema/}p {}\n",
      "{http://ead3.archivists.org/schema/}maintenancestatus {'value': 'derived'}\n",
      "{http://ead3.archivists.org/schema/}maintenanceagency {'countrycode': 'US'}\n",
      "{http://ead3.archivists.org/schema/}agencycode {}\n",
      "{http://ead3.archivists.org/schema/}agencyname {}\n",
      "{http://ead3.archivists.org/schema/}languagedeclaration {}\n",
      "{http://ead3.archivists.org/schema/}language {'langcode': 'eng'}\n",
      "{http://ead3.archivists.org/schema/}script {'scriptcode': 'Zyyy'}\n",
      "{http://ead3.archivists.org/schema/}descriptivenote {}\n",
      "{http://ead3.archivists.org/schema/}p {}\n",
      "{http://ead3.archivists.org/schema/}conventiondeclaration {}\n",
      "{http://ead3.archivists.org/schema/}abbr {}\n",
      "{http://ead3.archivists.org/schema/}citation {}\n",
      "{http://ead3.archivists.org/schema/}localcontrol {'localtype': 'findaidstatus'}\n",
      "{http://ead3.archivists.org/schema/}term {}\n",
      "{http://ead3.archivists.org/schema/}maintenancehistory {}\n",
      "{http://ead3.archivists.org/schema/}maintenanceevent {}\n",
      "{http://ead3.archivists.org/schema/}eventtype {'value': 'derived'}\n",
      "{http://ead3.archivists.org/schema/}eventdatetime {}\n",
      "{http://ead3.archivists.org/schema/}agenttype {'value': 'machine'}\n",
      "{http://ead3.archivists.org/schema/}agent {}\n",
      "{http://ead3.archivists.org/schema/}eventdescription {}\n",
      "{http://ead3.archivists.org/schema/}archdesc {'level': 'collection'}\n",
      "{http://ead3.archivists.org/schema/}did {}\n",
      "{http://ead3.archivists.org/schema/}unittitle {}\n",
      "{http://ead3.archivists.org/schema/}unitid {}\n",
      "{http://ead3.archivists.org/schema/}unitid {'localtype': 'aspace_uri'}\n",
      "{http://ead3.archivists.org/schema/}repository {}\n",
      "{http://ead3.archivists.org/schema/}corpname {}\n",
      "{http://ead3.archivists.org/schema/}part {}\n",
      "{http://ead3.archivists.org/schema/}langmaterial {}\n",
      "{http://ead3.archivists.org/schema/}language {'langcode': 'eng'}\n",
      "{http://ead3.archivists.org/schema/}physdescstructured {'coverage': 'whole', 'physdescstructuredtype': 'spaceoccupied'}\n",
      "{http://ead3.archivists.org/schema/}quantity {}\n",
      "{http://ead3.archivists.org/schema/}unittype {}\n",
      "{http://ead3.archivists.org/schema/}physfacet {}\n",
      "{http://ead3.archivists.org/schema/}dimensions {}\n",
      "{http://ead3.archivists.org/schema/}physdesc {'localtype': 'container_summary'}\n",
      "{http://ead3.archivists.org/schema/}unitdatestructured {'certainty': 'approximate', 'datechar': 'creation', 'era': 'ce', 'unitdatetype': 'bulk'}\n",
      "{http://ead3.archivists.org/schema/}daterange {}\n",
      "{http://ead3.archivists.org/schema/}fromdate {'standarddate': '1850'}\n",
      "{http://ead3.archivists.org/schema/}todate {'standarddate': '1975'}\n",
      "{http://ead3.archivists.org/schema/}unitdate {'certainty': 'approximate', 'datechar': 'creation', 'era': 'ce', 'unitdatetype': 'bulk'}\n",
      "{http://ead3.archivists.org/schema/}controlaccess {}\n",
      "{http://ead3.archivists.org/schema/}subject {'identifier': 'https://id.loc.gov/authorities/subjects/sh85130609.html', 'source': 'lcsh'}\n",
      "{http://ead3.archivists.org/schema/}part {}\n",
      "{http://ead3.archivists.org/schema/}geogname {'identifier': 'https://id.loc.gov/authorities/subjects/sh93001909.html', 'source': 'lcsh'}\n",
      "{http://ead3.archivists.org/schema/}part {}\n",
      "{http://ead3.archivists.org/schema/}dsc {}\n",
      "{http://ead3.archivists.org/schema/}c {'id': 'aspace_edab5fb678b5e37fcf34130da5836686', 'level': 'series'}\n",
      "{http://ead3.archivists.org/schema/}did {}\n",
      "{http://ead3.archivists.org/schema/}unittitle {}\n",
      "{http://ead3.archivists.org/schema/}unitid {'localtype': 'aspace_uri'}\n",
      "{http://ead3.archivists.org/schema/}unitid {}\n",
      "{http://ead3.archivists.org/schema/}unitdatestructured {'datechar': 'creation', 'unitdatetype': 'bulk'}\n",
      "{http://ead3.archivists.org/schema/}daterange {}\n",
      "{http://ead3.archivists.org/schema/}fromdate {'standarddate': '1850'}\n",
      "{http://ead3.archivists.org/schema/}todate {'standarddate': '1975'}\n",
      "{http://ead3.archivists.org/schema/}c {'id': 'aspace_cf40ab6e8beda6e2fdb51e0a08d30e06', 'level': 'series'}\n",
      "{http://ead3.archivists.org/schema/}did {}\n",
      "{http://ead3.archivists.org/schema/}unittitle {}\n",
      "{http://ead3.archivists.org/schema/}unitid {'localtype': 'aspace_uri'}\n",
      "{http://ead3.archivists.org/schema/}unitid {}\n",
      "{http://ead3.archivists.org/schema/}unitdatestructured {'certainty': 'questionable', 'datechar': 'creation', 'era': 'ce', 'unitdatetype': 'bulk'}\n",
      "{http://ead3.archivists.org/schema/}daterange {}\n",
      "{http://ead3.archivists.org/schema/}fromdate {'standarddate': '1850'}\n",
      "{http://ead3.archivists.org/schema/}todate {'standarddate': '1975'}\n",
      "{http://ead3.archivists.org/schema/}c {'id': 'aspace_5f14153a5cfd7f41c0b74cb59f429490', 'level': 'series'}\n",
      "{http://ead3.archivists.org/schema/}did {}\n",
      "{http://ead3.archivists.org/schema/}unittitle {}\n",
      "{http://ead3.archivists.org/schema/}unitid {'localtype': 'aspace_uri'}\n",
      "{http://ead3.archivists.org/schema/}unitid {}\n",
      "{http://ead3.archivists.org/schema/}scopecontent {'id': 'aspace_7e625d5bbdb28c2317a6a28677ebbd83'}\n",
      "{http://ead3.archivists.org/schema/}head {}\n",
      "{http://ead3.archivists.org/schema/}p {}\n",
      "{http://ead3.archivists.org/schema/}c {'id': 'aspace_0d77dcd4a4330f180ac372a192c51427', 'level': 'file'}\n",
      "{http://ead3.archivists.org/schema/}did {}\n",
      "{http://ead3.archivists.org/schema/}unittitle {}\n",
      "{http://ead3.archivists.org/schema/}unitid {'localtype': 'aspace_uri'}\n",
      "{http://ead3.archivists.org/schema/}unitid {}\n",
      "{http://ead3.archivists.org/schema/}unitdatestructured {'datechar': 'creation', 'unitdatetype': 'inclusive'}\n",
      "{http://ead3.archivists.org/schema/}datesingle {'standarddate': '1975-11-10'}\n"
     ]
    }
   ],
   "source": [
    "allEadTags = root.findall('.//ead:*', ns)\n",
    "\n",
    "for element in allEadTags:\n",
    "    print(element.tag, element.attrib)"
   ]
  },
  {
   "cell_type": "code",
   "execution_count": 16,
   "metadata": {},
   "outputs": [
    {
     "name": "stdout",
     "output_type": "stream",
     "text": [
      "{http://ead3.archivists.org/schema/}archdesc {'level': 'collection'}\n",
      "{http://ead3.archivists.org/schema/}c {'id': 'aspace_edab5fb678b5e37fcf34130da5836686', 'level': 'series'}\n",
      "{http://ead3.archivists.org/schema/}c {'id': 'aspace_cf40ab6e8beda6e2fdb51e0a08d30e06', 'level': 'series'}\n",
      "{http://ead3.archivists.org/schema/}c {'id': 'aspace_5f14153a5cfd7f41c0b74cb59f429490', 'level': 'series'}\n",
      "{http://ead3.archivists.org/schema/}c {'id': 'aspace_0d77dcd4a4330f180ac372a192c51427', 'level': 'file'}\n"
     ]
    }
   ],
   "source": [
    "allEadTagswithLevels = root.findall('.//ead:*[@level]', ns)\n",
    "\n",
    "for element in allEadTagswithLevels:\n",
    "    print(element.tag, element.attrib)"
   ]
  },
  {
   "cell_type": "code",
   "execution_count": 18,
   "metadata": {},
   "outputs": [
    {
     "name": "stdout",
     "output_type": "stream",
     "text": [
      "{http://ead3.archivists.org/schema/}c {'id': 'aspace_edab5fb678b5e37fcf34130da5836686', 'level': 'series'}\n",
      "{http://ead3.archivists.org/schema/}c {'id': 'aspace_cf40ab6e8beda6e2fdb51e0a08d30e06', 'level': 'series'}\n",
      "{http://ead3.archivists.org/schema/}c {'id': 'aspace_5f14153a5cfd7f41c0b74cb59f429490', 'level': 'series'}\n"
     ]
    }
   ],
   "source": [
    "allEadTagswithLevelSeries = root.findall('.//ead:*[@level=\"series\"]', ns)\n",
    "\n",
    "for element in allEadTagswithLevelSeries:\n",
    "    print(element.tag, element.attrib)"
   ]
  },
  {
   "cell_type": "code",
   "execution_count": 19,
   "metadata": {},
   "outputs": [
    {
     "name": "stdout",
     "output_type": "stream",
     "text": [
      "{http://ead3.archivists.org/schema/}unitid {'localtype': 'aspace_uri'}\n",
      "{http://ead3.archivists.org/schema/}unitid {'localtype': 'aspace_uri'}\n",
      "{http://ead3.archivists.org/schema/}unitid {'localtype': 'aspace_uri'}\n",
      "{http://ead3.archivists.org/schema/}unitid {'localtype': 'aspace_uri'}\n"
     ]
    }
   ],
   "source": [
    "allEadTagswithLevelSeriesUnitID = root.findall('.//ead:c[@level=\"series\"]//ead:unitid[@localtype=\"aspace_uri\"]', ns)\n",
    "\n",
    "for element in allEadTagswithLevelSeriesUnitID:\n",
    "    print(element.tag, element.attrib)"
   ]
  }
 ],
 "metadata": {
  "kernelspec": {
   "display_name": "base",
   "language": "python",
   "name": "python3"
  },
  "language_info": {
   "codemirror_mode": {
    "name": "ipython",
    "version": 3
   },
   "file_extension": ".py",
   "mimetype": "text/x-python",
   "name": "python",
   "nbconvert_exporter": "python",
   "pygments_lexer": "ipython3",
   "version": "3.12.4"
  }
 },
 "nbformat": 4,
 "nbformat_minor": 2
}
