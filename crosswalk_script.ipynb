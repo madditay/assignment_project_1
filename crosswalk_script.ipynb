{
 "cells": [
  {
   "cell_type": "code",
   "execution_count": 2,
   "metadata": {},
   "outputs": [],
   "source": [
    "import csv\n",
    "import json\n",
    "import glob\n",
    "import os\n",
    "from os.path import join "
   ]
  },
  {
   "cell_type": "code",
   "execution_count": 4,
   "metadata": {},
   "outputs": [
    {
     "name": "stdout",
     "output_type": "stream",
     "text": [
      "c:\\Users\\madis\\Documents\\676nlam\\assignment_project_1\n"
     ]
    }
   ],
   "source": [
    "current_loc = os.getcwd()\n",
    "print(current_loc)"
   ]
  },
  {
   "cell_type": "code",
   "execution_count": null,
   "metadata": {},
   "outputs": [],
   "source": [
    "metadata_file_path = os.path.join"
   ]
  },
  {
   "cell_type": "code",
   "execution_count": 6,
   "metadata": {},
   "outputs": [
    {
     "name": "stdout",
     "output_type": "stream",
     "text": [
      "C:/Users/madis/Documents/676nlam/assignment_project_1/holiday_item_metadata\\holiday_item_metadata-00694381.json\n",
      "C:/Users/madis/Documents/676nlam/assignment_project_1/holiday_item_metadata\\holiday_item_metadata-2001706171.json\n",
      "C:/Users/madis/Documents/676nlam/assignment_project_1/holiday_item_metadata\\holiday_item_metadata-2004669669.json\n",
      "C:/Users/madis/Documents/676nlam/assignment_project_1/holiday_item_metadata\\holiday_item_metadata-2010651354.json\n",
      "C:/Users/madis/Documents/676nlam/assignment_project_1/holiday_item_metadata\\holiday_item_metadata-2011646829.json\n",
      "C:/Users/madis/Documents/676nlam/assignment_project_1/holiday_item_metadata\\holiday_item_metadata-2011647535.json\n",
      "C:/Users/madis/Documents/676nlam/assignment_project_1/holiday_item_metadata\\holiday_item_metadata-2011649649.json\n",
      "C:/Users/madis/Documents/676nlam/assignment_project_1/holiday_item_metadata\\holiday_item_metadata-2015646473.json\n",
      "C:/Users/madis/Documents/676nlam/assignment_project_1/holiday_item_metadata\\holiday_item_metadata-91783740.json\n",
      "C:/Users/madis/Documents/676nlam/assignment_project_1/holiday_item_metadata\\holiday_item_metadata-92504352.json\n",
      "C:/Users/madis/Documents/676nlam/assignment_project_1/holiday_item_metadata\\holiday_item_metadata-92520926.json\n",
      "C:/Users/madis/Documents/676nlam/assignment_project_1/holiday_item_metadata\\holiday_item_metadata-94508133.json\n",
      "C:/Users/madis/Documents/676nlam/assignment_project_1/holiday_item_metadata\\holiday_item_metadata-98517785.json\n",
      "C:/Users/madis/Documents/676nlam/assignment_project_1/holiday_item_metadata\\holiday_item_metadata-fsa2000029154.json\n",
      "C:/Users/madis/Documents/676nlam/assignment_project_1/holiday_item_metadata\\holiday_item_metadata-fsa2000029184.json\n",
      "C:/Users/madis/Documents/676nlam/assignment_project_1/holiday_item_metadata\\holiday_item_metadata-ggb2004009340.json\n",
      "C:/Users/madis/Documents/676nlam/assignment_project_1/holiday_item_metadata\\holiday_item_metadata-ggb2005018053.json\n",
      "C:/Users/madis/Documents/676nlam/assignment_project_1/holiday_item_metadata\\holiday_item_metadata-hec2013005722.json\n",
      "C:/Users/madis/Documents/676nlam/assignment_project_1/holiday_item_metadata\\holiday_item_metadata-mp76000306.json\n",
      "C:/Users/madis/Documents/676nlam/assignment_project_1/holiday_item_metadata\\holiday_item_metadata-mpc2010002064.json\n",
      "C:/Users/madis/Documents/676nlam/assignment_project_1/holiday_item_metadata\\holiday_item_metadata-owi2001015165.json\n",
      "C:/Users/madis/Documents/676nlam/assignment_project_1/holiday_item_metadata\\holiday_item_metadata-owi2001015559.json\n",
      "found 22\n"
     ]
    }
   ],
   "source": [
    "file_count = 0\n",
    "\n",
    "for file in glob.glob('C:/Users/madis/Documents/676nlam/assignment_project_1/holiday_item_metadata/holiday_item_metadata-*.json'):\n",
    "    file_count += 1\n",
    "    print(file)\n",
    "\n",
    "print('found',file_count)"
   ]
  },
  {
   "cell_type": "code",
   "execution_count": 7,
   "metadata": {},
   "outputs": [
    {
     "data": {
      "text/plain": [
       "22"
      ]
     },
     "execution_count": 7,
     "metadata": {},
     "output_type": "execute_result"
    }
   ],
   "source": [
    "list_of_item_metadata_files = list()\n",
    "for file in glob.glob('C:/Users/madis/Documents/676nlam/assignment_project_1/holiday_item_metadata/holiday_item_metadata-*.json'):\n",
    "    list_of_item_metadata_files.append(file)\n",
    "\n",
    "len(list_of_item_metadata_files)            "
   ]
  },
  {
   "cell_type": "code",
   "execution_count": 8,
   "metadata": {},
   "outputs": [
    {
     "name": "stdout",
     "output_type": "stream",
     "text": [
      "file: C:/Users/madis/Documents/676nlam/assignment_project_1/holiday_item_metadata\\holiday_item_metadata-00694381.json \n",
      "\n",
      "_version_ : 1814162428537077760\n",
      "access_restricted : False\n",
      "aka : ['http://lccn.loc.gov/00694381', 'http://www.loc.gov/item/00694381/', 'https://hdl.loc.gov/loc.mbrsmi/ntscrm.01202820', 'http://www.loc.gov/resource/ntscrm.01202820/']\n",
      "call_number : ['FLA 3303 (viewing print)', 'FEB 9839 (viewing print)', 'FRA 0614 (dupe neg pic)', 'FZA 2482 (dupe neg pic)', 'FRB 0433 (master pos pic)', 'Box 0848P (paper pos)', 'Box 5534E (paper pos, copy 2)']\n",
      "campaigns : []\n",
      "contributor_names : ['White, James H. (James Henry), production', 'Thomas A. Edison, Inc', 'Paper Print Collection (Library of Congress)', 'Niver (Kemp) Collection (Library of Congress)']\n",
      "contributors : [{'niver (kemp) collection (library of congress)': 'https://www.loc.gov/search/?fa=contributor:niver+%28kemp%29+collection+%28library+of+congress%29&fo=json'}, {'paper print collection (library of congress)': 'https://www.loc.gov/search/?fa=contributor:paper+print+collection+%28library+of+congress%29&fo=json'}, {'thomas a. edison, inc': 'https://www.loc.gov/search/?fa=contributor:thomas+a.+edison,+inc&fo=json'}, {'white, james h. (james henry)': 'https://www.loc.gov/search/?fa=contributor:white,+james+h.+%28james+henry%29&fo=json'}]\n",
      "control_number : \n",
      "created_published : ['United States : Thomas A. Edison, Inc., 1898.']\n",
      "date : 1898\n",
      "dates : [{'1898': 'https://www.loc.gov/search/?dates=1898/1898&fo=json'}]\n",
      "description : ['\"A view taken on the West Side Drive in Central Park. Shows a continuous stream of handsome rigs and turnouts passing in both directions. Pedestrians watch the gay carnival. 50 feet\"--Edison films catalog.']\n",
      "digital_id : ['https://hdl.loc.gov/loc.mbrsmi/ntscrm.01202820']\n",
      "digitized : True\n",
      "display_offsite : True\n",
      "extract_timestamp : 2024-10-28T12:53:18.557Z\n",
      "extract_urls : ['http://lccn.loc.gov/00694381#nsr/marc']\n",
      "format : [{'film, video': 'https://www.loc.gov/search/?fa=original_format:film,+video&fo=json'}]\n",
      "genre : ['Actualities (Motion pictures)', 'Silent films', 'Short films', 'Nonfiction films']\n",
      "group : ['nsr/marc', 'national-screening-room']\n",
      "hassegments : False\n",
      "id : http://www.loc.gov/item/00694381/\n",
      "image_url : ['https://tile.loc.gov/storage-services/service/mbrs/ntscrm/01202820/01202820.gif']\n",
      "index : 1\n",
      "item : {'call_number': ['FLA 3303 (viewing print)', 'FEB 9839 (viewing print)', 'FRA 0614 (dupe neg pic)', 'FZA 2482 (dupe neg pic)', 'FRB 0433 (master pos pic)', 'Box 0848P (paper pos)', 'Box 5534E (paper pos, copy 2)'], 'contributors': ['White, James H. (James Henry), production', 'Thomas A. Edison, Inc', 'Paper Print Collection (Library of Congress)', 'Niver (Kemp) Collection (Library of Congress)'], 'created_published': ['United States : Thomas A. Edison, Inc., 1898.'], 'date': '1898', 'digital_id': ['https://hdl.loc.gov/loc.mbrsmi/ntscrm.01202820'], 'format': ['moving image'], 'genre': ['Actualities (Motion pictures)', 'Silent films', 'Short films', 'Nonfiction films'], 'language': ['eng'], 'location': ['New York (State)--New York', 'Central Park (New York, N.Y.)'], 'medium': ['viewing print 1 film reel of 1 (23 ft.) : si., b&w ; 16 mm.', 'viewing print 1 film reel of 1 (ca. 50 ft.) : si., b&w ; 35 mm.', 'dupe neg pic 1 film reel of 1 (23 ft.) : si., b&w ; 16 mm.', 'dupe neg pic 1 film reel of 1 (ca. 50 ft.) : si., b&w ; 35 mm.', 'master pos pic 1 film reel of 1 (ca. 25 ft.) : si., b&w ; 16 mm.', 'paper pos 1 roll of 1 (ca. 50 ft.) : b&w ; 35 mm.', 'paper pos (copy 2) 1 roll of 1 (ca. 50 ft.) : b&w ; 35 mm.'], 'notes': ['73462 U.S. Copyright Office', 'Copyright: Thomas A. Edison; 16Dec1898; 73462.', 'Duration: 0:47 at 15 fps.', 'Photographed November 28-29, 1898. Location: West Side Drive, Central Park, New York, N.Y.', 'Paper print shelf number (LC 0286) was changed when the paper prints were re-housed.', 'Additional holdings for this title may be available. Contact reference librarian.', 'Available also through the Library of Congress Web site as digital files.', 'Sources used: Niver, K. Early motion pictures, p. 301; American Film Institute catalog, film beginnings, 1893-1910, p. 989; Edison films catalog, no. 35, September, 1902, p. 111; Musser, C. Edison motion pictures, 1890-1900, p. 476.', 'Early motion pictures : the Paper Print Collection in the Library of Congress / by Kemp R. Niver. Library of  Congress. 1985.', '35 mm dupe neg pic renumbered: FPE 5574 to FZA 2482.'], 'repository': ['Library of Congress Motion Picture, Broadcasting and Recorded Sound Division Washington, D.C. 20540 USA dcu'], 'subjects': ['Sleighing--New York (State)--New York', 'Horse-drawn vehicles--New York (State)--New York', 'City and town life--New York (State)--New York', 'Central Park (New York, N.Y.)', 'Winter--New York (State)--New York'], 'summary': ['\"A view taken on the West Side Drive in Central Park. Shows a continuous stream of handsome rigs and turnouts passing in both directions. Pedestrians watch the gay carnival. 50 feet\"--Edison films catalog.'], 'title': 'Sleighing scene'}\n",
      "language : ['english']\n",
      "languages : [{'english': 'https://www.loc.gov/search/?fa=language:english&fo=json'}]\n",
      "library_of_congress_control_number : 00694381\n",
      "location : ['central park', 'new york']\n",
      "locations : [{'central park': 'https://www.loc.gov/search/?fa=location:central+park&fo=json'}, {'new york': 'https://www.loc.gov/search/?fa=location:new+york&fo=json'}]\n",
      "medium : ['viewing print 1 film reel of 1 (23 ft.) : si., b&w ; 16 mm.', 'viewing print 1 film reel of 1 (ca. 50 ft.) : si., b&w ; 35 mm.', 'dupe neg pic 1 film reel of 1 (23 ft.) : si., b&w ; 16 mm.', 'dupe neg pic 1 film reel of 1 (ca. 50 ft.) : si., b&w ; 35 mm.', 'master pos pic 1 film reel of 1 (ca. 25 ft.) : si., b&w ; 16 mm.', 'paper pos 1 roll of 1 (ca. 50 ft.) : b&w ; 35 mm.', 'paper pos (copy 2) 1 roll of 1 (ca. 50 ft.) : b&w ; 35 mm.']\n",
      "mime_type : ['image/gif', 'video/mp4', 'image/jpeg', 'video/quicktime', 'application/x-video']\n",
      "notes : ['73462 U.S. Copyright Office', 'Copyright: Thomas A. Edison; 16Dec1898; 73462.', 'Duration: 0:47 at 15 fps.', 'Photographed November 28-29, 1898. Location: West Side Drive, Central Park, New York, N.Y.', 'Paper print shelf number (LC 0286) was changed when the paper prints were re-housed.', 'Additional holdings for this title may be available. Contact reference librarian.', 'Sources used: Niver, K. Early motion pictures, p. 301; American Film Institute catalog, film beginnings, 1893-1910, p. 989; Edison films catalog, no. 35, September, 1902, p. 111; Musser, C. Edison motion pictures, 1890-1900, p. 476.', 'Early motion pictures : the Paper Print Collection in the Library of Congress / by Kemp R. Niver. Library of  Congress. 1985.', '35 mm dupe neg pic renumbered: FPE 5574 to FZA 2482.']\n",
      "number : ['00694381', '2021-04-12t11:49:01']\n",
      "number_lccn : ['00694381']\n",
      "number_source_modified : ['2021-04-12t11:49:01']\n",
      "online_format : ['image', 'video']\n",
      "original_format : ['film, video']\n",
      "other_formats : [{'label': 'MARCXML Record', 'link': 'https://lccn.loc.gov/00694381/marcxml'}, {'label': 'MODS Record', 'link': 'https://lccn.loc.gov/00694381/mods'}, {'label': 'Dublin Core Record', 'link': 'https://lccn.loc.gov/00694381/dc'}]\n",
      "partof : [{'count': 54, 'title': 'the life of a city: early films of new york, 1898-1906', 'url': 'https://www.loc.gov/collections/early-films-of-new-york-1898-to-1906/?fo=json'}, {'count': 158, 'title': 'america at work, america at leisure: motion pictures from 1894-1915', 'url': 'https://www.loc.gov/collections/america-at-work-and-leisure-1894-to-1915/?fo=json'}, {'count': 430, 'title': 'inventing entertainment: the early motion pictures and sound recordings of the edison companies', 'url': 'https://www.loc.gov/collections/edison-company-motion-pictures-and-sound-recordings/?fo=json'}, {'count': 824, 'title': 'motion picture, broadcasting and recorded sound division', 'url': 'https://www.loc.gov/search/?fa=partof:motion+picture,+broadcasting+and+recorded+sound+division&fo=json'}, {'count': 1221, 'title': 'national screening room', 'url': 'https://www.loc.gov/collections/national-screening-room/?fo=json'}, {'count': 1588490, 'title': 'catalog', 'url': 'https://www.loc.gov/search/?fa=partof:catalog&fo=json'}]\n",
      "repository : ['Library of Congress Motion Picture, Broadcasting and Recorded Sound Division Washington, D.C. 20540 USA dcu']\n",
      "resources : [{'caption': 'digital viewing copy', 'duration': 70, 'files': 1, 'height': 1080, 'image': 'https://tile.loc.gov/storage-services/service/mbrs/ntscrm/01202820/01202820.gif', 'info': 'https://tile.loc.gov/streaming-services/iiif/service:mbrs:ntscrm:01202820:01202820/info.json', 'media_object_id': 'BD5F9491934A3B09E053CAE7938C4B90', 'poster': 'https://tile.loc.gov/storage-services/service/mbrs/ntscrm/01202820/01202820.gif', 'url': 'https://www.loc.gov/resource/ntscrm.01202820/', 'video': 'https://tile.loc.gov/storage-services/service/mbrs/ntscrm/01202820/01202820.mp4', 'video_stream': 'https://tile.loc.gov/streaming-services/iiif/service:mbrs:ntscrm:01202820:01202820/full/full/0/full/default.m3u8', 'width': 1440}]\n",
      "rights : ['<p>The Library of Congress is not aware of any U.S. copyright or other restrictions in the vast majority of motion pictures in these collections. Absent any such restrictions, these materials are free to use and reuse.</p>\\r\\n<p>In rare cases, copyrighted motion pictures are made available by special permission to the Library and may be used only for educational purposes. For example, the Gershwin home movies fall within this category. Rights assessment is your responsibility. No registration information exists for some titles, and reproduction of some titles may be restricted by privacy rights, publicity rights, licensing and trademarks. Additionally, some works may still be protected by copyright in the United States or some foreign countries. The written permission of the copyright owners in materials not in the public domain is required for distribution, reproduction, or other use of protected items beyond that allowed by fair use or other statutory exemptions.</p>\\r\\n<p>Whenever possible, we provide information that we have about copyright owners and related matters in the catalog records, finding aids and other texts that accompany collections. You should consult the catalog information that accompanies each item for specific information. This catalog data provides the details known to the Library of Congress regarding the corresponding item and may assist you in making independent assessments of the legal status of these items for their desired uses. You should also consult restrictions associated with donations to the Library.</p>\\r\\n<p>Credit Line: Library of Congress, Motion Picture, Broadcasting, and Recorded Sound Division.</p>\\r\\n<p>More about <a href=\"/legal/\">Copyright and other Restrictions</a>.</p>\\r\\n<p>For guidance about compiling full citations consult <a href=\"//www.loc.gov/teachers/usingprimarysources/citing.html\">Citing Primary Sources</a>.</p>']\n",
      "score : 15.749203\n",
      "shard : 01\n",
      "shelf_id : FLA 3303 (viewing print) FEB 9839 (viewing print) FRA 0614 (dupe neg pic) FZA 2482 (dupe neg pic) FRB 0433 (master pos pic) Box 0848P (paper pos) Box 5534E (paper pos, copy 2)\n",
      "site : ['catalog']\n",
      "source_modified : 2000-01-01T12:00:00Z\n",
      "subject : ['central park (new york, n.y.)', 'horse-drawn vehicles', 'winter', 'nonfiction films', 'short films', 'city and town life', 'new york (state)', 'silent films', 'sleighing', 'actualities (motion pictures)', 'new york']\n",
      "subject_headings : ['Sleighing--New York (State)--New York', 'Horse-drawn vehicles--New York (State)--New York', 'City and town life--New York (State)--New York', 'Central Park (New York, N.Y.)', 'Winter--New York (State)--New York']\n",
      "subjects : [{'actualities (motion pictures)': 'https://www.loc.gov/search/?fa=subject:actualities+%28motion+pictures%29&fo=json'}, {'central park (new york, n.y.)': 'https://www.loc.gov/search/?fa=subject:central+park+%28new+york,+n.y.%29&fo=json'}, {'city and town life': 'https://www.loc.gov/search/?fa=subject:city+and+town+life&fo=json'}, {'horse-drawn vehicles': 'https://www.loc.gov/search/?fa=subject:horse-drawn+vehicles&fo=json'}, {'new york': 'https://www.loc.gov/search/?fa=subject:new+york&fo=json'}, {'new york (state)': 'https://www.loc.gov/search/?fa=subject:new+york+%28state%29&fo=json'}, {'nonfiction films': 'https://www.loc.gov/search/?fa=subject:nonfiction+films&fo=json'}, {'short films': 'https://www.loc.gov/search/?fa=subject:short+films&fo=json'}, {'silent films': 'https://www.loc.gov/search/?fa=subject:silent+films&fo=json'}, {'sleighing': 'https://www.loc.gov/search/?fa=subject:sleighing&fo=json'}, {'winter': 'https://www.loc.gov/search/?fa=subject:winter&fo=json'}]\n",
      "summary : ['\"A view taken on the West Side Drive in Central Park. Shows a continuous stream of handsome rigs and turnouts passing in both directions. Pedestrians watch the gay carnival. 50 feet\"--Edison films catalog.']\n",
      "timestamp : 2024-10-28T12:55:13.215Z\n",
      "title : Sleighing scene\n",
      "type : ['film, video']\n",
      "url : https://www.loc.gov/item/00694381/\n"
     ]
    }
   ],
   "source": [
    "with open(list_of_item_metadata_files[0], 'r', encoding='utf-8') as item:\n",
    "    print('file:', list_of_item_metadata_files[0], '\\n')\n",
    "    item_metadata = json.load(item)\n",
    "    for element in item_metadata.keys():\n",
    "        print(element,':', item_metadata[element])"
   ]
  },
  {
   "cell_type": "code",
   "execution_count": 9,
   "metadata": {},
   "outputs": [
    {
     "data": {
      "text/plain": [
       "dict_keys(['_version_', 'access_restricted', 'aka', 'call_number', 'campaigns', 'contributor_names', 'contributors', 'control_number', 'created_published', 'date', 'dates', 'description', 'digital_id', 'digitized', 'display_offsite', 'extract_timestamp', 'extract_urls', 'format', 'genre', 'group', 'hassegments', 'id', 'image_url', 'index', 'item', 'language', 'languages', 'library_of_congress_control_number', 'location', 'locations', 'medium', 'mime_type', 'notes', 'number', 'number_lccn', 'number_source_modified', 'online_format', 'original_format', 'other_formats', 'partof', 'repository', 'resources', 'rights', 'score', 'shard', 'shelf_id', 'site', 'source_modified', 'subject', 'subject_headings', 'subjects', 'summary', 'timestamp', 'title', 'type', 'url'])"
      ]
     },
     "execution_count": 9,
     "metadata": {},
     "output_type": "execute_result"
    }
   ],
   "source": [
    "item_metadata.keys()"
   ]
  },
  {
   "cell_type": "code",
   "execution_count": 10,
   "metadata": {},
   "outputs": [
    {
     "name": "stdout",
     "output_type": "stream",
     "text": [
      "\n",
      "date: 1898 <class 'str'>\n",
      "\n",
      "format: {'film, video': 'https://www.loc.gov/search/?fa=original_format:film,+video&fo=json'} <class 'list'>\n"
     ]
    }
   ],
   "source": [
    "print('\\ndate:', item_metadata['date'], type(item_metadata['date']))\n",
    "print('\\nformat:', item_metadata['format'][0], type(item_metadata['format']))"
   ]
  },
  {
   "cell_type": "code",
   "execution_count": 13,
   "metadata": {},
   "outputs": [
    {
     "name": "stdout",
     "output_type": "stream",
     "text": [
      "created row dictionary: {'Creator': [{'niver (kemp) collection (library of congress)': 'https://www.loc.gov/search/?fa=contributor:niver+%28kemp%29+collection+%28library+of+congress%29&fo=json'}, {'paper print collection (library of congress)': 'https://www.loc.gov/search/?fa=contributor:paper+print+collection+%28library+of+congress%29&fo=json'}, {'thomas a. edison, inc': 'https://www.loc.gov/search/?fa=contributor:thomas+a.+edison,+inc&fo=json'}, {'white, james h. (james henry)': 'https://www.loc.gov/search/?fa=contributor:white,+james+h.+%28james+henry%29&fo=json'}], 'Date': '1898', 'Digital ID': ['https://hdl.loc.gov/loc.mbrsmi/ntscrm.01202820'], 'Format': {'film, video': 'https://www.loc.gov/search/?fa=original_format:film,+video&fo=json'}, 'Language': ['english'], 'Location': ['central park', 'new york'], 'Medium': ['viewing print 1 film reel of 1 (23 ft.) : si., b&w ; 16 mm.', 'viewing print 1 film reel of 1 (ca. 50 ft.) : si., b&w ; 35 mm.', 'dupe neg pic 1 film reel of 1 (23 ft.) : si., b&w ; 16 mm.', 'dupe neg pic 1 film reel of 1 (ca. 50 ft.) : si., b&w ; 35 mm.', 'master pos pic 1 film reel of 1 (ca. 25 ft.) : si., b&w ; 16 mm.', 'paper pos 1 roll of 1 (ca. 50 ft.) : b&w ; 35 mm.', 'paper pos (copy 2) 1 roll of 1 (ca. 50 ft.) : b&w ; 35 mm.'], 'Subjects': {'actualities (motion pictures)': 'https://www.loc.gov/search/?fa=subject:actualities+%28motion+pictures%29&fo=json'}, 'Title': 'Sleighing scene', 'Description': ['\"A view taken on the West Side Drive in Central Park. Shows a continuous stream of handsome rigs and turnouts passing in both directions. Pedestrians watch the gay carnival. 50 feet\"--Edison films catalog.']}\n",
      "wrote collection_items_data.csv\n"
     ]
    }
   ],
   "source": [
    "collection_info_csv = 'collection_items_data.csv'\n",
    "headers = ['Creator', 'Date', 'Digital ID', 'Format', 'Language', 'Location', 'Medium', 'Subjects', 'Title', 'Description']\n",
    "with open(list_of_item_metadata_files[0], 'r', encoding='utf-8') as data:\n",
    "    item_metadata = json.load(data)\n",
    "    source_file = str(file)\n",
    "    try:\n",
    "        Creator = item_metadata['contributors']\n",
    "    except:\n",
    "        Creator = 'Not Available'\n",
    "    try:\n",
    "        Date = item_metadata['date']\n",
    "    except:\n",
    "        Date = 'Not Available'\n",
    "    try:\n",
    "        Digital_ID = item_metadata['digital_id']\n",
    "    except:\n",
    "        Digital_ID = 'Not Available'\n",
    "    try:\n",
    "        Format = item_metadata['format'][0]\n",
    "    except:\n",
    "        Format = 'Not Available'\n",
    "    try:\n",
    "        Language = item_metadata['language']\n",
    "    except:\n",
    "        Language = 'Not Available'\n",
    "    try:\n",
    "        Location = item_metadata['location']\n",
    "    except:\n",
    "        Location = 'Not Available'\n",
    "    try:\n",
    "        Medium = item_metadata['medium']\n",
    "    except:\n",
    "        Medium = 'Not Available'\n",
    "    try:\n",
    "        Subjects = item_metadata['subjects'][0]\n",
    "    except:\n",
    "        Subjects = 'Not Available'\n",
    "    try:\n",
    "        Title = item_metadata['title']\n",
    "    except:\n",
    "        Title = 'Not Available'\n",
    "    try:\n",
    "        Description = item_metadata['summary']\n",
    "    except:\n",
    "        Description = 'Not Available'\n",
    "\n",
    "    \n",
    "    \n",
    "    row_dict = dict()\n",
    "    row_dict['Creator'] = Creator\n",
    "    row_dict['Date'] = Date\n",
    "    row_dict['Digital ID'] = Digital_ID\n",
    "    row_dict['Format'] = Format\n",
    "    row_dict['Language'] = Language\n",
    "    row_dict['Location'] = Location\n",
    "    row_dict['Medium'] = Medium\n",
    "    row_dict['Subjects'] = Subjects\n",
    "    row_dict['Title'] = Title\n",
    "    row_dict['Description'] = Description\n",
    "    print('created row dictionary:', row_dict)\n",
    "\n",
    "    with open(collection_info_csv, 'w', encoding='utf-8') as file:\n",
    "        writer = csv.DictWriter(file, fieldnames=headers)\n",
    "        writer.writeheader()\n",
    "        writer.writerow(row_dict)\n",
    "        print('wrote', collection_info_csv)"
   ]
  },
  {
   "cell_type": "code",
   "execution_count": 15,
   "metadata": {},
   "outputs": [
    {
     "name": "stdout",
     "output_type": "stream",
     "text": [
      "['https://tile.loc.gov/storage-services/service/mbrs/ntscrm/01202820/01202820.gif']\n"
     ]
    }
   ],
   "source": [
    "collection_info_csv = 'collection_items_data.csv'\n",
    "headers = ['Creator', 'Date', 'Digital ID', 'Format', 'Language', 'Location', 'Medium', 'Subjects', 'Title', 'Description']\n",
    "with open(list_of_item_metadata_files[0], 'r', encoding='utf-8') as data:\n",
    "    item_metadata = json.load(data)\n",
    "    print(item_metadata['image_url'])"
   ]
  }
 ],
 "metadata": {
  "kernelspec": {
   "display_name": "base",
   "language": "python",
   "name": "python3"
  },
  "language_info": {
   "codemirror_mode": {
    "name": "ipython",
    "version": 3
   },
   "file_extension": ".py",
   "mimetype": "text/x-python",
   "name": "python",
   "nbconvert_exporter": "python",
   "pygments_lexer": "ipython3",
   "version": "3.12.4"
  }
 },
 "nbformat": 4,
 "nbformat_minor": 2
}
