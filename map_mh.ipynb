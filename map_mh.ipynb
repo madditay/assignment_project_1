{
 "cells": [
  {
   "cell_type": "code",
   "execution_count": 1,
   "metadata": {},
   "outputs": [],
   "source": [
    "import json\n",
    "from os.path import join "
   ]
  },
  {
   "cell_type": "code",
   "execution_count": 2,
   "metadata": {},
   "outputs": [
    {
     "name": "stdout",
     "output_type": "stream",
     "text": [
      "File not found: ..\\holiday_item_metadata\\holiday_item_metadata-00694381.json\n"
     ]
    }
   ],
   "source": [
    "import json\n",
    "from os.path import join, exists\n",
    "\n",
    "# Construct the file path\n",
    "file_path = join('..', 'holiday_item_metadata', 'holiday_item_metadata-00694381.json')\n",
    "\n",
    "# Check if the file exists\n",
    "if exists(file_path):\n",
    "    with open(file_path, encoding='utf-8') as file:\n",
    "        metadata = json.load(file)\n",
    "    # Print the first 100 characters of the metadata\n",
    "    print(json.dumps(metadata, indent=2)[:100])\n",
    "else:\n",
    "    print(f\"File not found: {file_path}\")"
   ]
  },
  {
   "cell_type": "code",
   "execution_count": 3,
   "metadata": {},
   "outputs": [
    {
     "name": "stdout",
     "output_type": "stream",
     "text": [
      "{\n",
      "  \"_version_\": 1814162428537077760,\n",
      "  \"access_restricted\": false,\n",
      "  \"aka\": [\n",
      "    \"http://lccn.loc.\n"
     ]
    }
   ],
   "source": [
    "file_path = r'C:\\Users\\madis\\Documents\\676nlam\\assignment_project_1\\holiday_item_metadata\\holiday_item_metadata-00694381.json'\n",
    "\n",
    "with open(file_path, encoding='utf-8') as file:\n",
    "    metadata = json.load(file)\n",
    "\n",
    "# check if it's there\n",
    "print(json.dumps(metadata, indent=2)[:100])"
   ]
  },
  {
   "cell_type": "code",
   "execution_count": 4,
   "metadata": {},
   "outputs": [
    {
     "name": "stdout",
     "output_type": "stream",
     "text": [
      "call_number :\t ['FLA 3303 (viewing print)', 'FEB 9839 (viewing print)', 'FRA 0614 (dupe neg pic)', 'FZA 2482 (dupe neg pic)', 'FRB 0433 (master pos pic)', 'Box 0848P (paper pos)', 'Box 5534E (paper pos, copy 2)']\n",
      "contributors :\t ['White, James H. (James Henry), production', 'Thomas A. Edison, Inc', 'Paper Print Collection (Library of Congress)', 'Niver (Kemp) Collection (Library of Congress)']\n",
      "created_published :\t ['United States : Thomas A. Edison, Inc., 1898.']\n",
      "date :\t 1898\n",
      "digital_id :\t ['https://hdl.loc.gov/loc.mbrsmi/ntscrm.01202820']\n",
      "format :\t ['moving image']\n",
      "genre :\t ['Actualities (Motion pictures)', 'Silent films', 'Short films', 'Nonfiction films']\n",
      "language :\t ['eng']\n",
      "location :\t ['New York (State)--New York', 'Central Park (New York, N.Y.)']\n",
      "medium :\t ['viewing print 1 film reel of 1 (23 ft.) : si., b&w ; 16 mm.', 'viewing print 1 film reel of 1 (ca. 50 ft.) : si., b&w ; 35 mm.', 'dupe neg pic 1 film reel of 1 (23 ft.) : si., b&w ; 16 mm.', 'dupe neg pic 1 film reel of 1 (ca. 50 ft.) : si., b&w ; 35 mm.', 'master pos pic 1 film reel of 1 (ca. 25 ft.) : si., b&w ; 16 mm.', 'paper pos 1 roll of 1 (ca. 50 ft.) : b&w ; 35 mm.', 'paper pos (copy 2) 1 roll of 1 (ca. 50 ft.) : b&w ; 35 mm.']\n",
      "notes :\t ['73462 U.S. Copyright Office', 'Copyright: Thomas A. Edison; 16Dec1898; 73462.', 'Duration: 0:47 at 15 fps.', 'Photographed November 28-29, 1898. Location: West Side Drive, Central Park, New York, N.Y.', 'Paper print shelf number (LC 0286) was changed when the paper prints were re-housed.', 'Additional holdings for this title may be available. Contact reference librarian.', 'Available also through the Library of Congress Web site as digital files.', 'Sources used: Niver, K. Early motion pictures, p. 301; American Film Institute catalog, film beginnings, 1893-1910, p. 989; Edison films catalog, no. 35, September, 1902, p. 111; Musser, C. Edison motion pictures, 1890-1900, p. 476.', 'Early motion pictures : the Paper Print Collection in the Library of Congress / by Kemp R. Niver. Library of  Congress. 1985.', '35 mm dupe neg pic renumbered: FPE 5574 to FZA 2482.']\n",
      "repository :\t ['Library of Congress Motion Picture, Broadcasting and Recorded Sound Division Washington, D.C. 20540 USA dcu']\n",
      "subjects :\t ['Sleighing--New York (State)--New York', 'Horse-drawn vehicles--New York (State)--New York', 'City and town life--New York (State)--New York', 'Central Park (New York, N.Y.)', 'Winter--New York (State)--New York']\n",
      "summary :\t ['\"A view taken on the West Side Drive in Central Park. Shows a continuous stream of handsome rigs and turnouts passing in both directions. Pedestrians watch the gay carnival. 50 feet\"--Edison films catalog.']\n",
      "title :\t Sleighing scene\n"
     ]
    }
   ],
   "source": [
    "for attribute in metadata['item'].items():\n",
    "    print(attribute[0], ':\\t', attribute[1])"
   ]
  },
  {
   "cell_type": "code",
   "execution_count": 5,
   "metadata": {},
   "outputs": [],
   "source": [
    "metadata_fields_file = join('..','assignment_project_1','metadata_fields.txt')\n",
    "\n",
    "with open(metadata_fields_file, 'w') as f:\n",
    "    f.write('attribute\\tvalue\\n')\n",
    "    for attribute in metadata['item'].items():\n",
    "        f.write(str(attribute[0]) + '\\t' + str(attribute[1]) + '\\n')"
   ]
  },
  {
   "cell_type": "code",
   "execution_count": 6,
   "metadata": {},
   "outputs": [
    {
     "name": "stdout",
     "output_type": "stream",
     "text": [
      "created_published\n"
     ]
    }
   ],
   "source": [
    "for attribute in metadata.keys():\n",
    "    if 'created' in attribute:\n",
    "        print(attribute)"
   ]
  },
  {
   "cell_type": "code",
   "execution_count": 7,
   "metadata": {},
   "outputs": [
    {
     "name": "stdout",
     "output_type": "stream",
     "text": [
      "date\n",
      "dates\n"
     ]
    }
   ],
   "source": [
    "for attribute in metadata.keys():\n",
    "    if 'date' in attribute:\n",
    "        print(attribute)"
   ]
  },
  {
   "cell_type": "code",
   "execution_count": 8,
   "metadata": {},
   "outputs": [
    {
     "name": "stdout",
     "output_type": "stream",
     "text": [
      "['United States : Thomas A. Edison, Inc., 1898.']\n",
      "1898\n",
      "[{'1898': 'https://www.loc.gov/search/?dates=1898/1898&fo=json'}]\n"
     ]
    }
   ],
   "source": [
    "created_published = metadata['created_published']\n",
    "date = metadata['date']\n",
    "dates = metadata['dates']\n",
    "\n",
    "print(created_published)\n",
    "print(date)\n",
    "print(dates)"
   ]
  }
 ],
 "metadata": {
  "kernelspec": {
   "display_name": "base",
   "language": "python",
   "name": "python3"
  },
  "language_info": {
   "codemirror_mode": {
    "name": "ipython",
    "version": 3
   },
   "file_extension": ".py",
   "mimetype": "text/x-python",
   "name": "python",
   "nbconvert_exporter": "python",
   "pygments_lexer": "ipython3",
   "version": "3.12.4"
  }
 },
 "nbformat": 4,
 "nbformat_minor": 2
}
